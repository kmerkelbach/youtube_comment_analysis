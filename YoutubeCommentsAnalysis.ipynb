{
 "cells": [
  {
   "cell_type": "markdown",
   "id": "dd68cc20-4983-44a7-b931-27cf92fc6113",
   "metadata": {},
   "source": [
    "# Youtube Comments Analysis"
   ]
  },
  {
   "cell_type": "markdown",
   "id": "d9bea4d9-e984-4607-a401-f9a89ee8855a",
   "metadata": {},
   "source": [
    "## Imports"
   ]
  },
  {
   "cell_type": "code",
   "execution_count": 1,
   "id": "aa3d9793-14fe-41b6-88b4-3b63c54cec08",
   "metadata": {},
   "outputs": [],
   "source": [
    "from tqdm import tqdm\n",
    "from typing import List\n",
    "import numpy as np\n"
   ]
  },
  {
   "cell_type": "code",
   "execution_count": 2,
   "id": "b6cfeb76",
   "metadata": {},
   "outputs": [
    {
     "name": "stderr",
     "output_type": "stream",
     "text": [
      "/home/kilian/.local/lib/python3.10/site-packages/tqdm/auto.py:21: TqdmWarning: IProgress not found. Please update jupyter and ipywidgets. See https://ipywidgets.readthedocs.io/en/stable/user_install.html\n",
      "  from .autonotebook import tqdm as notebook_tqdm\n",
      "/home/kilian/.local/lib/python3.10/site-packages/torch/cuda/__init__.py:138: UserWarning: CUDA initialization: CUDA unknown error - this may be due to an incorrectly set up environment, e.g. changing env variable CUDA_VISIBLE_DEVICES after program start. Setting the available devices to be zero. (Triggered internally at ../c10/cuda/CUDAFunctions.cpp:108.)\n",
      "  return torch._C._cuda_getDeviceCount() > 0\n"
     ]
    }
   ],
   "source": [
    "# My own modules\n",
    "from models.text_models import TextModelManager\n",
    "from models.llm_api import LLM\n",
    "from api.youtube_api import YoutubeAPI\n",
    "from analysis.classification_analysis import ClassificationAnalyzer\n",
    "from analysis.statements_analysis import StatementsAnalyzer\n",
    "from analysis.clustering import ClusteringAnalyzer"
   ]
  },
  {
   "cell_type": "code",
   "execution_count": 3,
   "id": "7b909081",
   "metadata": {},
   "outputs": [],
   "source": [
    "# Logging\n",
    "import logging\n",
    "logging.basicConfig(\n",
    "    level=logging.INFO,  # Set the logging level\n",
    "    format='%(asctime)s.%(msecs)03d - %(name)s - %(levelname)s - %(message)s',  # Define the log format with milliseconds\n",
    "    datefmt='%Y-%m-%d %H:%M:%S'  # Define the date and time format without milliseconds\n",
    ")"
   ]
  },
  {
   "cell_type": "markdown",
   "id": "938e5103-a2f5-4dbb-8f20-65cfaf3cc7eb",
   "metadata": {},
   "source": [
    "## Load Models"
   ]
  },
  {
   "cell_type": "code",
   "execution_count": 4,
   "id": "eec47aeb",
   "metadata": {},
   "outputs": [
    {
     "name": "stderr",
     "output_type": "stream",
     "text": [
      "2024-07-31 09:59:44.326 - models.text_models - INFO - Instantiating TextModelManager.\n"
     ]
    }
   ],
   "source": [
    "# Initialize classification models\n",
    "text_model_manager = TextModelManager()"
   ]
  },
  {
   "cell_type": "markdown",
   "id": "ce1dca2b-1349-4677-a502-4ee1d719fadf",
   "metadata": {},
   "source": [
    "## Set up LLM"
   ]
  },
  {
   "cell_type": "code",
   "execution_count": 5,
   "id": "64ca201e-fb9d-43dd-9507-bdfafc6e439a",
   "metadata": {},
   "outputs": [
    {
     "name": "stderr",
     "output_type": "stream",
     "text": [
      "2024-07-31 09:59:44.336 - models.llm_api - INFO - Instantiating LLM.\n"
     ]
    }
   ],
   "source": [
    "llm = LLM()"
   ]
  },
  {
   "cell_type": "markdown",
   "id": "a0cf2fc6-a49a-4ace-9bca-249703491ef4",
   "metadata": {},
   "source": [
    "## Youtube API"
   ]
  },
  {
   "cell_type": "code",
   "execution_count": 6,
   "id": "55a4f8cc-e459-4cf6-b584-2c574310d5a3",
   "metadata": {},
   "outputs": [
    {
     "name": "stderr",
     "output_type": "stream",
     "text": [
      "2024-07-31 09:59:44.374 - api.youtube_api - INFO - Instantiating YoutubeAPI.\n",
      "2024-07-31 09:59:44.376 - googleapiclient.discovery_cache - INFO - file_cache is only supported with oauth2client<4.0.0\n"
     ]
    }
   ],
   "source": [
    "youtube = YoutubeAPI()"
   ]
  },
  {
   "cell_type": "code",
   "execution_count": 7,
   "id": "0f56fdad-bc02-4a3a-9dbb-2ab2514d677d",
   "metadata": {},
   "outputs": [],
   "source": [
    "yt_video_test_id_tomato = \"9WQnap-UAiQ\"\n",
    "yt_video_test_id_10k_comments = \"2-XxbdR3Nik\"\n",
    "yt_video_test_id_4500_comments = \"-ih0B9yn32Q\"\n",
    "yt_video_test_id_4k_comments_beard_meets_schnitzel = \"qPd9qPUR2_U\"\n",
    "yt_video_test_id_2000_comments = \"rX2tK-qSVpk\"\n",
    "yt_video_test_id_700_comments = \"VCXqELB3UPg\"\n",
    "yt_video_test_id_300_comments = \"yQqJafC7xv0\"\n",
    "yt_video_test_id_25_comments = \"kiF0wgM8zGc\"\n",
    "yt_video_test_id_50_comments = \"LHQMIuzjl48\"\n",
    "\n",
    "yt_video_id = yt_video_test_id_700_comments\n",
    "youtube.set_current_video(yt_video_id)"
   ]
  },
  {
   "cell_type": "code",
   "execution_count": 8,
   "id": "7bccbd94-3da0-4d75-8460-79772a19c6bd",
   "metadata": {},
   "outputs": [
    {
     "data": {
      "text/plain": [
       "'You can mix 10 marbles until they sort themselves. Why not 100?'"
      ]
     },
     "execution_count": 8,
     "metadata": {},
     "output_type": "execute_result"
    }
   ],
   "source": [
    "youtube.get_title()"
   ]
  },
  {
   "cell_type": "code",
   "execution_count": 9,
   "id": "0e329998-2c17-45a9-bae5-87a9128d79d1",
   "metadata": {},
   "outputs": [
    {
     "data": {
      "text/plain": [
       "'AlphaPhoenix'"
      ]
     },
     "execution_count": 9,
     "metadata": {},
     "output_type": "execute_result"
    }
   ],
   "source": [
    "youtube.get_creator_name()"
   ]
  },
  {
   "cell_type": "code",
   "execution_count": 10,
   "id": "76b068b6",
   "metadata": {},
   "outputs": [
    {
     "name": "stderr",
     "output_type": "stream",
     "text": [
      "2024-07-31 09:59:44.564 - api.youtube_api - INFO - Starting raw comment retrieval.\n",
      "2024-07-31 09:59:44.760 - api.youtube_api - INFO - Received 100 top-level comments.\n",
      "2024-07-31 09:59:44.761 - api.youtube_api - INFO - Requesting another page (page 2 of at most 14) ...\n"
     ]
    },
    {
     "name": "stdout",
     "output_type": "stream",
     "text": [
      "Starting comments retrieval for video ID VCXqELB3UPg ('You can mix 10 marbles until they sort themselves. Why not 100?')\n"
     ]
    },
    {
     "name": "stderr",
     "output_type": "stream",
     "text": [
      "2024-07-31 09:59:44.937 - api.youtube_api - INFO - Received 100 top-level comments.\n",
      "2024-07-31 09:59:44.937 - api.youtube_api - INFO - Requesting another page (page 3 of at most 14) ...\n",
      "2024-07-31 09:59:45.090 - api.youtube_api - INFO - Received 100 top-level comments.\n",
      "2024-07-31 09:59:45.090 - api.youtube_api - INFO - Requesting another page (page 4 of at most 14) ...\n",
      "2024-07-31 09:59:45.242 - api.youtube_api - INFO - Received 100 top-level comments.\n",
      "2024-07-31 09:59:45.244 - api.youtube_api - INFO - Requesting another page (page 5 of at most 14) ...\n",
      "2024-07-31 09:59:45.439 - api.youtube_api - INFO - Received 100 top-level comments.\n",
      "2024-07-31 09:59:45.442 - api.youtube_api - INFO - Requesting another page (page 6 of at most 14) ...\n",
      "2024-07-31 09:59:45.599 - api.youtube_api - INFO - Received 100 top-level comments.\n",
      "2024-07-31 09:59:45.600 - api.youtube_api - INFO - Requesting another page (page 7 of at most 14) ...\n",
      "2024-07-31 09:59:45.775 - api.youtube_api - INFO - Received 100 top-level comments.\n",
      "2024-07-31 09:59:45.776 - api.youtube_api - INFO - Requesting another page (page 8 of at most 14) ...\n",
      "2024-07-31 09:59:45.953 - api.youtube_api - INFO - Received 100 top-level comments.\n",
      "2024-07-31 09:59:45.954 - api.youtube_api - INFO - Requesting another page (page 9 of at most 14) ...\n",
      "2024-07-31 09:59:46.115 - api.youtube_api - INFO - Received 88 top-level comments.\n",
      "2024-07-31 09:59:46.116 - api.youtube_api - INFO - Finished raw comment retrieval of 888 top-level comments.\n",
      "Getting replies for comments with missing replies ...: 100%|██████████| 888/888 [00:01<00:00, 846.95it/s] \n",
      "Converting comments to our own class ...: 100%|██████████| 888/888 [00:00<00:00, 8181.96it/s]\n",
      "Deduplicating comments ...: 100%|██████████| 888/888 [00:00<00:00, 26555.12it/s]\n"
     ]
    }
   ],
   "source": [
    "# Get comments (for testing)\n",
    "comments = youtube.get_comments(yt_video_id)"
   ]
  },
  {
   "cell_type": "markdown",
   "id": "52180ef6-3130-4cf7-a50e-c90492468cb1",
   "metadata": {},
   "source": [
    "## Clustering"
   ]
  },
  {
   "cell_type": "markdown",
   "id": "bafec46a-adaf-4edd-9ac8-e5b4b8622d22",
   "metadata": {},
   "source": [
    "Here, our goal is to find out trends or common themes in the comments."
   ]
  },
  {
   "cell_type": "code",
   "execution_count": 11,
   "id": "6b853356",
   "metadata": {},
   "outputs": [
    {
     "name": "stderr",
     "output_type": "stream",
     "text": [
      "2024-07-31 09:59:47.326 - googleapiclient.discovery_cache - INFO - file_cache is only supported with oauth2client<4.0.0\n"
     ]
    }
   ],
   "source": [
    "clustering_analyzer = ClusteringAnalyzer(video_id=yt_video_id, comments=comments)"
   ]
  },
  {
   "cell_type": "code",
   "execution_count": 12,
   "id": "14a7f387",
   "metadata": {},
   "outputs": [
    {
     "name": "stderr",
     "output_type": "stream",
     "text": [
      "Calculating embeddings ...:   0%|          | 0/1399 [00:00<?, ?it/s]/home/kilian/.local/lib/python3.10/site-packages/torch/_utils.py:831: UserWarning: TypedStorage is deprecated. It will be removed in the future and UntypedStorage will be the only storage class. This should only matter to you if you are using storages directly.  To access UntypedStorage directly, use tensor.untyped_storage() instead of tensor.storage()\n",
      "  return self.fget.__get__(instance, owner)()\n",
      "Calculating embeddings ...: 100%|██████████| 1399/1399 [01:22<00:00, 16.97it/s]\n",
      "Clustering ...: 100%|██████████| 40/40 [01:13<00:00,  1.85s/it]\n",
      "2024-07-31 10:02:23.871 - analysis.clustering - INFO - Best clustering out of 25 is with 32 clusters, with a mean Silhouette coefficient of 0.08842793107032776 (function was <function cluster_spectral_clustering at 0x7fc30270fd90>).\n",
      "Find cluster topics ...: 100%|██████████| 32/32 [00:13<00:00,  2.39it/s]\n",
      "Fusing groups ...: 100%|██████████| 18/18 [00:02<00:00,  8.11it/s]\n"
     ]
    }
   ],
   "source": [
    "clus = clustering_analyzer.cluster()"
   ]
  },
  {
   "cell_type": "code",
   "execution_count": 13,
   "id": "4df28d14",
   "metadata": {},
   "outputs": [
    {
     "data": {
      "text/plain": [
       "{0: 'Physical Principles of Random Processes',\n",
       " 2: 'Pondering Chaos and Uncertainty',\n",
       " 3: 'Exploring Entropy Concepts',\n",
       " 6: 'Intellectual Curiosity',\n",
       " 9: 'Video Appreciation',\n",
       " 10: 'Nerdy Humor in Science'}"
      ]
     },
     "execution_count": 13,
     "metadata": {},
     "output_type": "execute_result"
    }
   ],
   "source": [
    "clus.topics"
   ]
  },
  {
   "cell_type": "code",
   "execution_count": 14,
   "id": "ede85cc1-a251-4c31-9275-c80df6c38c3c",
   "metadata": {},
   "outputs": [],
   "source": [
    "# TODO: Print out cluster topics along with cluster sizes (absolute and in percent)"
   ]
  },
  {
   "cell_type": "code",
   "execution_count": null,
   "id": "39160f07-4b5f-4ea0-9c77-302d7fd3e307",
   "metadata": {},
   "outputs": [],
   "source": []
  },
  {
   "cell_type": "code",
   "execution_count": 15,
   "id": "bb771034",
   "metadata": {},
   "outputs": [
    {
     "ename": "AssertionError",
     "evalue": "",
     "output_type": "error",
     "traceback": [
      "\u001b[0;31m---------------------------------------------------------------------------\u001b[0m",
      "\u001b[0;31mAssertionError\u001b[0m                            Traceback (most recent call last)",
      "Cell \u001b[0;32mIn[15], line 1\u001b[0m\n\u001b[0;32m----> 1\u001b[0m \u001b[38;5;28;01massert\u001b[39;00m \u001b[38;5;28;01mFalse\u001b[39;00m\n",
      "\u001b[0;31mAssertionError\u001b[0m: "
     ]
    }
   ],
   "source": [
    "assert False"
   ]
  },
  {
   "cell_type": "markdown",
   "id": "7db6b8bd",
   "metadata": {},
   "source": [
    "## LLM Statement Extraction"
   ]
  },
  {
   "cell_type": "code",
   "execution_count": null,
   "id": "7aeab0e5",
   "metadata": {},
   "outputs": [],
   "source": [
    "statements_analyzer = StatementsAnalyzer(\n",
    "    video_id=yt_video_id,\n",
    "    comments=comments\n",
    ")"
   ]
  },
  {
   "cell_type": "code",
   "execution_count": null,
   "id": "83d1ad96",
   "metadata": {},
   "outputs": [],
   "source": [
    "statements_analyzer.run_analysis(\n",
    "    limit_statements=2  # For testing, limit number of statements\n",
    ")"
   ]
  },
  {
   "cell_type": "markdown",
   "id": "f8e000da",
   "metadata": {},
   "source": [
    "## Classification Analysis"
   ]
  },
  {
   "cell_type": "code",
   "execution_count": null,
   "id": "5b3fc302",
   "metadata": {},
   "outputs": [],
   "source": [
    "classification_analyzer = ClassificationAnalyzer(comments)\n",
    "print(classification_analyzer.run_all_analyses())"
   ]
  }
 ],
 "metadata": {
  "kernelspec": {
   "display_name": "yt_comments",
   "language": "python",
   "name": "yt_comments"
  },
  "language_info": {
   "codemirror_mode": {
    "name": "ipython",
    "version": 3
   },
   "file_extension": ".py",
   "mimetype": "text/x-python",
   "name": "python",
   "nbconvert_exporter": "python",
   "pygments_lexer": "ipython3",
   "version": "3.10.6"
  }
 },
 "nbformat": 4,
 "nbformat_minor": 5
}
